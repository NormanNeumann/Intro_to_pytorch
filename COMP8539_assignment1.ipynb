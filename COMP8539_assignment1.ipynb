{
  "nbformat": 4,
  "nbformat_minor": 0,
  "metadata": {
    "colab": {
      "provenance": [],
      "gpuType": "T4",
      "include_colab_link": true
    },
    "kernelspec": {
      "name": "python3",
      "display_name": "Python 3"
    },
    "language_info": {
      "name": "python"
    },
    "accelerator": "GPU"
  },
  "cells": [
    {
      "cell_type": "markdown",
      "metadata": {
        "id": "view-in-github",
        "colab_type": "text"
      },
      "source": [
        "<a href=\"https://colab.research.google.com/github/NormanNeumann/Intro_to_pytorch/blob/main/COMP8539_assignment1.ipynb\" target=\"_parent\"><img src=\"https://colab.research.google.com/assets/colab-badge.svg\" alt=\"Open In Colab\"/></a>"
      ]
    },
    {
      "cell_type": "code",
      "source": [
        "# Adopted from https://tintn.github.io/Implementing-Vision-Transformer-from-Scratch/, https://github.com/lucidrains/vit-pytorch/blob/main/vit_pytorch/vit.py\n",
        "# You may get a sense of the how final accuracy looks like on https://github.com/kentaroy47/vision-transformers-cifar10\n",
        "# Author: Changlin Song. Checked by Enze Tao."
      ],
      "metadata": {
        "id": "riMDAk_vvI0M"
      },
      "execution_count": null,
      "outputs": []
    },
    {
      "cell_type": "code",
      "execution_count": null,
      "metadata": {
        "id": "0XxWBD_KynUr"
      },
      "outputs": [],
      "source": [
        "# Add pathes of mounted Projects.\n",
        "# This allows you to access your google drive so that you can store the state_dict or whatever you want.\n",
        "# You should modify the following path according to your own google drive configuration if you need it.\n",
        "import sys\n",
        "sys.path.append('/content/drive/MyDrive/COMP8539/assignment1')\n",
        "path_prefix = '/content/drive/MyDrive/COMP8539/assignment1'"
      ]
    },
    {
      "cell_type": "markdown",
      "source": [
        "2. Import Libraries"
      ],
      "metadata": {
        "id": "eIKXy_CY8TgP"
      }
    },
    {
      "cell_type": "code",
      "source": [
        "import torch\n",
        "import torchvision\n",
        "import torchvision.transforms as transforms\n",
        "from torch.utils.data import DataLoader\n",
        "import torch.nn as nn\n",
        "import torch.optim as optim\n",
        "import matplotlib.pyplot as plt\n",
        "from tqdm import tqdm\n",
        "from dataclasses import dataclass\n",
        "from torch.utils.data import Dataset\n",
        "from PIL import Image\n",
        "import os\n",
        "\n",
        "# Seed every thing for reproduct\n",
        "SEED = 8539\n",
        "torch.manual_seed(SEED) # Setting the seed\n",
        "# GPU operations have a separate seed we also want to set\n",
        "if torch.cuda.is_available():\n",
        "    torch.cuda.manual_seed(SEED)\n",
        "    torch.cuda.manual_seed_all(SEED)\n",
        "\n",
        "# Additionally, some operations on a GPU are implemented stochastic for efficiency\n",
        "# We want to ensure that all operations are deterministic on GPU (if used) for reproducibility\n",
        "torch.backends.cudnn.deterministic = True\n",
        "torch.backends.cudnn.benchmark = False"
      ],
      "metadata": {
        "id": "1p8YTjiozIoC"
      },
      "execution_count": null,
      "outputs": []
    },
    {
      "cell_type": "markdown",
      "source": [
        "3. Prepare CIFAR-10 Dataset"
      ],
      "metadata": {
        "id": "MBMRUwkU8Vv0"
      }
    },
    {
      "cell_type": "code",
      "source": [
        "@dataclass\n",
        "class CIFAR10_Dataset(Dataset):\n",
        "    root_dir: str                    # Path to CIFAR-10 data folder\n",
        "    train: bool = True               # Whether to load train or test set\n",
        "    transform: transforms.Compose = None  # Image transforms (To be filled in)\n",
        "\n",
        "    def __post_init__(self):\n",
        "        # TODO: Load file paths and labels\n",
        "        # You can use torchvision.datasets.CIFAR10 as a reference or use your own file loader\n",
        "        self.image_paths = []  # Fill with list of image file paths\n",
        "        self.labels = []       # Fill with corresponding labels\n",
        "\n",
        "        # Note that writing your own dataclass can be beneficial for your feature research when you\n",
        "        # need to construct a new dataset.\n",
        "\n",
        "        # Example: Load from torchvision and extract data manually (optional)\n",
        "        # from torchvision.datasets import CIFAR10\n",
        "        # cifar = CIFAR10(root=self.root_dir, train=self.train, download=True)\n",
        "        # self.image_paths = cifar.data\n",
        "        # self.labels = cifar.targets\n",
        "\n",
        "    def __len__(self):\n",
        "        return len(self.image_paths)\n",
        "\n",
        "    def __getitem__(self, idx):\n",
        "        # TODO: Load and return an image and its label\n",
        "        # image = Image.open(self.image_paths[idx]).convert('RGB')  # if using image files\n",
        "        # If using numpy arrays from torchvision.datasets.CIFAR10:\n",
        "        # image = Image.fromarray(self.image_paths[idx])\n",
        "        label = self.labels[idx]\n",
        "\n",
        "        # Apply transformation if available\n",
        "        if self.transform:\n",
        "            image = self.transform(image)\n",
        "\n",
        "        return image, label"
      ],
      "metadata": {
        "id": "p62N1DlXGPmn"
      },
      "execution_count": null,
      "outputs": []
    },
    {
      "cell_type": "code",
      "source": [
        "# Data transforms for CIFAR-10 (standard normalization)\n",
        "# Note that you are free to use your own data augmentation.\n",
        "mean = (0.4914, 0.4822, 0.4465)\n",
        "std = (0.2023, 0.1994, 0.2010)\n",
        "\n",
        "transform_train = transforms.Compose([\n",
        "    transforms.RandomCrop(32, padding=4),\n",
        "    transforms.Resize(32),\n",
        "    transforms.RandomHorizontalFlip(),\n",
        "    transforms.ToTensor(),\n",
        "    transforms.Normalize(mean, std),\n",
        "])\n",
        "\n",
        "transform_test = transforms.Compose([\n",
        "    transforms.Resize(32),\n",
        "    transforms.ToTensor(),\n",
        "    transforms.Normalize(mean, std),\n",
        "])\n",
        "\n",
        "# Load datasets\n",
        "train_set = CIFAR10_Dataset(root='./data', train=True,\n",
        "                                         download=True, transform=transform_train)\n",
        "test_set = CIFAR10_Dataset(root='./data', train=False,\n",
        "                                        download=True, transform=transform_test)\n",
        "\n",
        "# Create data loaders\n",
        "train_loader = DataLoader(train_set, batch_size=128, shuffle=True, num_workers=2)\n",
        "test_loader = DataLoader(test_set, batch_size=128, shuffle=False, num_workers=2)"
      ],
      "metadata": {
        "colab": {
          "base_uri": "https://localhost:8080/"
        },
        "id": "lM5PLBwu8OUJ",
        "outputId": "b79af6de-d6d6-41cb-c88c-4a4da5287941"
      },
      "execution_count": null,
      "outputs": [
        {
          "output_type": "stream",
          "name": "stderr",
          "text": [
            "100%|██████████| 170M/170M [00:05<00:00, 29.2MB/s]\n"
          ]
        }
      ]
    },
    {
      "cell_type": "markdown",
      "source": [
        "4. Define Baseline ViT Model (Task 3.1)"
      ],
      "metadata": {
        "id": "-xWvqMQj8-py"
      }
    },
    {
      "cell_type": "markdown",
      "source": [
        "![](https://cdn.jsdelivr.net/gh//Charlemagnescl/image-host/202508030029392.png)\n",
        "Dosovitskiy A, Beyer L, Kolesnikov A, et al. An image is worth 16x16 words: Transformers for image recognition at scale[J]. arXiv preprint arXiv:2010.11929, 2020."
      ],
      "metadata": {
        "id": "gbtZP9A7L_2M"
      }
    },
    {
      "cell_type": "code",
      "source": [
        "import torch\n",
        "import torch.nn as nn\n",
        "from einops import rearrange, repeat\n",
        "\n",
        "def pair(t):\n",
        "    \"\"\"Helper to ensure tuple format for sizes.\"\"\"\n",
        "    return t if isinstance(t, tuple) else (t, t)"
      ],
      "metadata": {
        "id": "daIduLjLseYr"
      },
      "execution_count": null,
      "outputs": []
    },
    {
      "cell_type": "markdown",
      "source": [
        "# Patch Embedding Layer\n",
        "\n",
        "Transformers accept 1D sequences. To handle 2D images, we reshape an image $\\mathbf{x} \\in \\mathbb{R}^{H \\times W \\times C}$ into $\\mathbf{x}_p \\in \\mathbb{R}^{N \\times (P^2 \\cdot C)}$, where $(H, W)$ is the resolution of the original image, $C$ is the number of channels, $(P,P)$ is the resolution of each image patch, and $N = HW / P^2$ is the resulting number of patches. The 1D patch sequences ($\\mathbf{x}_p$) will be map to $D$ dimensions with a trainable linear projection."
      ],
      "metadata": {
        "id": "KQ4BJshtMVqk"
      }
    },
    {
      "cell_type": "code",
      "source": [
        "class PatchEmbedding(nn.Module):\n",
        "    def __init__(self, image_size, patch_size, dim, **kwargs):\n",
        "        \"\"\"\n",
        "        Splits image into non-overlapping patches and embeds them into a vector space.\n",
        "        \"\"\"\n",
        "        super().__init__()\n",
        "        self.num_channels = kwargs.get('num_channels', 3)\n",
        "\n",
        "        image_size = pair(image_size)\n",
        "        patch_size = pair(patch_size)\n",
        "\n",
        "        image_height, image_width = image_size\n",
        "        patch_height, patch_width = patch_size\n",
        "\n",
        "        assert image_height % patch_height == 0 and image_width % patch_width == 0, \\\n",
        "            'Image dimensions must be divisible by patch size'\n",
        "\n",
        "        self.num_patches = (image_height // patch_height) * (image_width // patch_width)\n",
        "        patch_dim = self.num_channels * patch_height * patch_width\n",
        "\n",
        "        # TODO: implement rearrange and a linear projection\n",
        "        self.to_patch_embedding = nn.Sequential(\n",
        "            # rearrange('B C (H p1) (W p2) -> B (H W) (p1 p2 C)', ...)\n",
        "            # nn.Linear(..., dim)\n",
        "        )\n",
        "\n",
        "    def forward(self, x):\n",
        "        # TODO: apply patch embedding\n",
        "        pass"
      ],
      "metadata": {
        "id": "SFSWzNI_MF33"
      },
      "execution_count": null,
      "outputs": []
    },
    {
      "cell_type": "markdown",
      "source": [
        "# Embedding Layer (Patch + Positional + CLS)\n",
        "\n",
        "ViT use a learnable embedding $\\mathbf{x}_\\text{class}$ to serve as the representation of the image, which will be prepend to the embedded image patches($\\mathbf{Z}_{0:N+1} = [\\mathbf{x}_\\text{class} \\quad , \\mathbf{x}_p]$). ViT use standard learnable 1D position embeddings $\\mathbf{P}_{0:N+1} = [\\mathbf{P}_0, \\mathbf{P}_1, \\ldots, \\mathbf{P}_{N+1}]$. The input of the transformer layers is the summation of $\\mathbf{Z}_{0:N+1}$ and $\\mathbf{P}_{0:N+1}$."
      ],
      "metadata": {
        "id": "TY04e43mMW_2"
      }
    },
    {
      "cell_type": "code",
      "source": [
        "class Embeddings(nn.Module):\n",
        "    def __init__(self, image_size, patch_size, dim, **kwargs):\n",
        "        super().__init__()\n",
        "        self.patch_embedding = PatchEmbedding(image_size, patch_size, dim, **kwargs)\n",
        "\n",
        "        # TODO: define CLS token and positional embedding\n",
        "        self.cls_token = ...\n",
        "        self.pos_embedding = ...\n",
        "        self.dropout = nn.Dropout(kwargs.get('emb_dropout', 0.1))\n",
        "\n",
        "    def forward(self, x):\n",
        "        # TODO:\n",
        "        # 1. Patch embed\n",
        "        # 2. Add CLS token\n",
        "        # 3. Add positional embedding\n",
        "        # 4. Apply dropout\n",
        "        pass"
      ],
      "metadata": {
        "id": "vvofyIzhMRoF"
      },
      "execution_count": null,
      "outputs": []
    },
    {
      "cell_type": "markdown",
      "source": [
        "Multi-Head Self-Attention"
      ],
      "metadata": {
        "id": "CTymg_EbMbSj"
      }
    },
    {
      "cell_type": "markdown",
      "source": [
        "![](https://cdn.jsdelivr.net/gh//Charlemagnescl/image-host/202508031017288.png)\n",
        "\n",
        "Zhang, A., et al, Dive into Deep Learning. Cambridge University Press, 2023."
      ],
      "metadata": {
        "id": "IadtFiN2Sbr4"
      }
    },
    {
      "cell_type": "markdown",
      "source": [
        "In multi-head self attention, we have the input $\\mathbf{x}$ serves as the queries, keys, values ($\\mathbf{q,k,v}$) simultaneouly. The attention output of the $i$-th head is\n",
        "$$\\mathbf{h}_i = f(\\mathbf{W}^{(q)}_i \\mathbf{q}, \\mathbf{W}^{(k)}_i \\mathbf{k}, \\mathbf{W}^{(v)}_i \\mathbf{v}) \\in \\mathbb{R}^{D / N_\\text{head}}$$\n",
        "where $\\mathbf{W}^{(q)}_i, \\mathbf{W}^{(k)}_i, \\mathbf{W}^{(v)}_i \\in \\mathbb{R}^{D / N_\\text{head} \\  \\times D}$ are learnable parameters, and $f$ is scaled dot product attention\n",
        "$$f(\\mathbf{Q}, \\mathbf{K}, \\mathbf{V}) = \\operatorname{softmax}\\left(\\frac{\\mathbf{Q}\\mathbf{K}^\\top}{\\sqrt{d}}\\right)\\mathbf{V} \\in \\mathbb{R}^{n \\times d}$$\n",
        "where $\\mathbf{Q}, \\mathbf{K}, \\mathbf{V} \\in \\mathbb{R}^{n \\times d}$.\n",
        "\n",
        "The multi-head attention output is another linear transformation via learnable parameters $\\mathbf{W}_o \\in \\mathbb{R}^{D \\times D}$ of the concatenation of $N_\\text{head} \\ $ heads\n",
        "$$\\mathbf{W}_o \\begin{bmatrix}\\mathbf{h}_1 \\\\ \\vdots \\\\ \\mathbf{h}_{N_\\text{head}}\\end{bmatrix} \\in \\mathbb{R}^{D}$$"
      ],
      "metadata": {
        "id": "jw6rYS0BSsfl"
      }
    },
    {
      "cell_type": "code",
      "source": [
        "class MultiHeadAttention(nn.Module):\n",
        "    def __init__(self, dim, num_heads=8, qkv_bias=False, qk_scale=None, attn_drop=0., proj_drop=0.):\n",
        "        super().__init__()\n",
        "        # TODO: Define linear layers for qkv, dropout layers, scaling factor\n",
        "        self.norm = ...\n",
        "        self.qkv = ...\n",
        "        self.proj = ...\n",
        "        self.attn_drop = ...\n",
        "        self.proj_drop = ...\n",
        "        self.scale = ...\n",
        "\n",
        "    def forward(self, x):\n",
        "        # TODO:\n",
        "        # 1. Normalize input\n",
        "        # 2. Compute q, k, v\n",
        "        # 3. Compute scaled dot-product attention\n",
        "        # 4. Apply dropout\n",
        "        # 5. Project output\n",
        "        pass"
      ],
      "metadata": {
        "id": "Id5K43PaMbEb"
      },
      "execution_count": null,
      "outputs": []
    },
    {
      "cell_type": "markdown",
      "source": [
        "# Feedforward MLP\n",
        "\n",
        "The MLP contains two layers with a GELU non-linearity."
      ],
      "metadata": {
        "id": "FqZ-TJbJMipo"
      }
    },
    {
      "cell_type": "code",
      "source": [
        "class FeedForward(nn.Module):\n",
        "    def __init__(self, dim, hidden_dim, dropout=0.):\n",
        "        super().__init__()\n",
        "        # TODO: Build 2-layer MLP with dropout and GELU\n",
        "        # Don't forget to normalize the input, and use dropout after each Linear Layer!\n",
        "        self.net = ...\n",
        "\n",
        "    def forward(self, x):\n",
        "        return self.net(x)"
      ],
      "metadata": {
        "colab": {
          "base_uri": "https://localhost:8080/",
          "height": 211
        },
        "id": "ZbZEo0yfMkpW",
        "outputId": "f407d1f0-2f25-4b32-8635-94a229a3e9af"
      },
      "execution_count": null,
      "outputs": [
        {
          "output_type": "error",
          "ename": "NameError",
          "evalue": "name 'nn' is not defined",
          "traceback": [
            "\u001b[0;31m---------------------------------------------------------------------------\u001b[0m",
            "\u001b[0;31mNameError\u001b[0m                                 Traceback (most recent call last)",
            "\u001b[0;32m/tmp/ipython-input-4026501798.py\u001b[0m in \u001b[0;36m<cell line: 0>\u001b[0;34m()\u001b[0m\n\u001b[0;32m----> 1\u001b[0;31m \u001b[0;32mclass\u001b[0m \u001b[0mFeedForward\u001b[0m\u001b[0;34m(\u001b[0m\u001b[0mnn\u001b[0m\u001b[0;34m.\u001b[0m\u001b[0mModule\u001b[0m\u001b[0;34m)\u001b[0m\u001b[0;34m:\u001b[0m\u001b[0;34m\u001b[0m\u001b[0;34m\u001b[0m\u001b[0m\n\u001b[0m\u001b[1;32m      2\u001b[0m     \u001b[0;32mdef\u001b[0m \u001b[0m__init__\u001b[0m\u001b[0;34m(\u001b[0m\u001b[0mself\u001b[0m\u001b[0;34m,\u001b[0m \u001b[0mdim\u001b[0m\u001b[0;34m,\u001b[0m \u001b[0mhidden_dim\u001b[0m\u001b[0;34m,\u001b[0m \u001b[0mdropout\u001b[0m\u001b[0;34m=\u001b[0m\u001b[0;36m0.\u001b[0m\u001b[0;34m)\u001b[0m\u001b[0;34m:\u001b[0m\u001b[0;34m\u001b[0m\u001b[0;34m\u001b[0m\u001b[0m\n\u001b[1;32m      3\u001b[0m         \u001b[0msuper\u001b[0m\u001b[0;34m(\u001b[0m\u001b[0;34m)\u001b[0m\u001b[0;34m.\u001b[0m\u001b[0m__init__\u001b[0m\u001b[0;34m(\u001b[0m\u001b[0;34m)\u001b[0m\u001b[0;34m\u001b[0m\u001b[0;34m\u001b[0m\u001b[0m\n\u001b[1;32m      4\u001b[0m         \u001b[0;31m# TODO: Build 2-layer MLP with dropout and GELU\u001b[0m\u001b[0;34m\u001b[0m\u001b[0;34m\u001b[0m\u001b[0m\n\u001b[1;32m      5\u001b[0m         \u001b[0mself\u001b[0m\u001b[0;34m.\u001b[0m\u001b[0mnet\u001b[0m \u001b[0;34m=\u001b[0m \u001b[0;34m...\u001b[0m\u001b[0;34m\u001b[0m\u001b[0;34m\u001b[0m\u001b[0m\n",
            "\u001b[0;31mNameError\u001b[0m: name 'nn' is not defined"
          ]
        }
      ]
    },
    {
      "cell_type": "markdown",
      "source": [
        "# Transformer Encoder Block (use your MultiHeadAttention and FeedForward layer)"
      ],
      "metadata": {
        "id": "9WN3HCAUMn_T"
      }
    },
    {
      "cell_type": "code",
      "source": [
        "class TransformerEncoder(nn.Module):\n",
        "    def __init__(self, dim, depth=6, num_heads=8, mlp_dim=2048, dropout=0.1):\n",
        "        super().__init__()\n",
        "        # TODO: Stack multiple attention + FFN blocks\n",
        "        self.layers = nn.ModuleList([])\n",
        "        for _ in range(depth):\n",
        "            self.layers.append(nn.ModuleList([\n",
        "                # MultiHeadAttention(dim, num_heads, dropout=dropout),\n",
        "                # FeedForward(dim, mlp_dim, dropout=dropout)\n",
        "            ]))\n",
        "        self.norm = nn.LayerNorm(dim)\n",
        "\n",
        "    def forward(self, x):\n",
        "        # TODO: Residual attention and FFN connections\n",
        "        for attn, ff in self.layers:\n",
        "            x = ...\n",
        "        return self.norm(x)"
      ],
      "metadata": {
        "id": "24Sl8qBGMllC"
      },
      "execution_count": null,
      "outputs": []
    },
    {
      "cell_type": "markdown",
      "source": [
        "# Vision Transformer Classifier\n",
        "\n",
        "$$\\mathbf{z}^{0} = [\\mathbf{x}_\\text{class} \\ \\ , \\mathbf{x}_p] + \\mathbf{P},$$\n",
        "$$\\tilde{\\mathbf{z}}^{l} = \\operatorname{MSA}(\\operatorname{LN}(\\mathbf{z}^{l-1})) + \\mathbf{z}^{l-1}, \\quad l = 1, \\ldots, L$$\n",
        "$$\\mathbf{z}^{l} = \\operatorname{MLP}(\\operatorname{LN}(\\tilde{\\mathbf{z}}^{l})) + \\tilde{\\mathbf{z}}^{l}, \\quad l = 1, \\ldots, L$$\n",
        "$$\\mathbf{y} = \\operatorname{LN}(\\mathbf{z}^L_0)$$"
      ],
      "metadata": {
        "id": "KQVh556PNAvq"
      }
    },
    {
      "cell_type": "code",
      "source": [
        "class ViT(nn.Module):\n",
        "    def __init__(self, image_size, patch_size, num_classes, dim, depth, heads, mlp_dim, dropout, emb_dropout):\n",
        "        super().__init__()\n",
        "        # TODO: Combine embedding, transformer, MLP head\n",
        "        self.embeddings = ...\n",
        "        self.encoder = ...\n",
        "        self.mlp_head = ...\n",
        "\n",
        "    def forward(self, img):\n",
        "        # TODO:\n",
        "        # 1. Embed input image\n",
        "        # 2. Pass through transformer\n",
        "        # 3. Use CLS token for classification\n",
        "        pass"
      ],
      "metadata": {
        "id": "WDr_5rY7NERa"
      },
      "execution_count": null,
      "outputs": []
    },
    {
      "cell_type": "markdown",
      "source": [
        "5. Training Setup"
      ],
      "metadata": {
        "id": "HgdIzpe19F5w"
      }
    },
    {
      "cell_type": "markdown",
      "source": [
        "Save your checkpoint"
      ],
      "metadata": {
        "id": "DQ4RwHm0REII"
      }
    },
    {
      "cell_type": "code",
      "source": [
        "def save_checkpoint(model, optimizer, epoch, train_loss_history, val_loss_history,\n",
        "                    train_acc_history, val_acc_history, path=\"checkpoint.pth\"):\n",
        "    \"\"\"\n",
        "    Saves model state, optimizer state, epoch, and training history.\n",
        "    \"\"\"\n",
        "    checkpoint = {\n",
        "        'model_state_dict': model.state_dict(),\n",
        "        'optimizer_state_dict': optimizer.state_dict(),\n",
        "        'epoch': epoch,\n",
        "        'train_loss_history': train_loss_history,\n",
        "        'val_loss_history': val_loss_history,\n",
        "        'train_acc_history': train_acc_history,\n",
        "        'val_acc_history': val_acc_history\n",
        "    }\n",
        "    torch.save(checkpoint, path)\n",
        "    print(f\"Checkpoint saved to {path}\")"
      ],
      "metadata": {
        "id": "bWQFbqnlRHvz"
      },
      "execution_count": null,
      "outputs": []
    },
    {
      "cell_type": "markdown",
      "source": [
        "Load your checkpoint"
      ],
      "metadata": {
        "id": "hgosroQ7RJ3w"
      }
    },
    {
      "cell_type": "code",
      "source": [
        "def load_checkpoint(model, optimizer, path=\"checkpoint.pth\", device='cpu'):\n",
        "    \"\"\"\n",
        "    Loads model and optimizer states, epoch, and training history.\n",
        "    Returns model, optimizer, last epoch, and histories.\n",
        "    \"\"\"\n",
        "    checkpoint = torch.load(path, map_location=device)\n",
        "\n",
        "    model.load_state_dict(checkpoint['model_state_dict'])\n",
        "    optimizer.load_state_dict(checkpoint['optimizer_state_dict'])\n",
        "\n",
        "    epoch = checkpoint['epoch']\n",
        "    train_loss_history = checkpoint['train_loss_history']\n",
        "    val_loss_history = checkpoint['val_loss_history']\n",
        "    train_acc_history = checkpoint['train_acc_history']\n",
        "    val_acc_history = checkpoint['val_acc_history']\n",
        "\n",
        "    print(f\"Checkpoint loaded from {path} (epoch {epoch})\")\n",
        "\n",
        "    return model, optimizer, epoch, train_loss_history, val_loss_history, train_acc_history, val_acc_history"
      ],
      "metadata": {
        "id": "UwMDRrm9RMdM"
      },
      "execution_count": null,
      "outputs": []
    },
    {
      "cell_type": "markdown",
      "source": [
        "6. Training and Validation Loop"
      ],
      "metadata": {
        "id": "3os68-Mx9MWq"
      }
    },
    {
      "cell_type": "code",
      "source": [
        "import torch\n",
        "import matplotlib.pyplot as plt\n",
        "from tqdm import tqdm\n",
        "\n",
        "\n",
        "\n",
        "def train_one_epoch(model, dataloader, optimizer, criterion, device):\n",
        "    model.train()\n",
        "    running_loss, correct, total = 0.0, 0, 0\n",
        "\n",
        "    for inputs, labels in tqdm(dataloader, desc=\"Training\"):\n",
        "        # TODO: Move inputs and labels to device\n",
        "        # inputs, labels = ...\n",
        "\n",
        "        # TODO: Zero gradients\n",
        "        # optimizer.zero_grad()\n",
        "\n",
        "        # TODO: Forward pass\n",
        "        # outputs = ...\n",
        "\n",
        "        # TODO: Compute loss\n",
        "        # loss = ...\n",
        "\n",
        "        # TODO: Backward pass and optimizer step\n",
        "        # loss.backward()\n",
        "        # optimizer.step()\n",
        "\n",
        "        # TODO: Update metrics\n",
        "        # running_loss += ...\n",
        "        # correct += ...\n",
        "        # total += ...\n",
        "\n",
        "    epoch_loss = running_loss / len(dataloader)\n",
        "    epoch_acc = correct / total\n",
        "    return epoch_loss, epoch_acc\n",
        "\n",
        "\n",
        "  def evaluate(model, dataloader, criterion, device):\n",
        "    model.eval()\n",
        "    loss_sum, correct, total = 0.0, 0, 0\n",
        "\n",
        "    with torch.no_grad():\n",
        "        for inputs, labels in dataloader:\n",
        "            # TODO: Move to device\n",
        "            # inputs, labels = ...\n",
        "\n",
        "            # TODO: Forward pass\n",
        "            # outputs = ...\n",
        "\n",
        "            # TODO: Compute loss\n",
        "            # loss = ...\n",
        "\n",
        "            # TODO: Update metrics\n",
        "            # loss_sum += ...\n",
        "            # correct += ...\n",
        "            # total += ...\n",
        "\n",
        "    epoch_loss = loss_sum / len(dataloader)\n",
        "    epoch_acc = correct / total\n",
        "    return epoch_loss, epoch_acc\n"
      ],
      "metadata": {
        "id": "qY1cd5rmOlJr"
      },
      "execution_count": null,
      "outputs": []
    },
    {
      "cell_type": "markdown",
      "source": [
        "Setup training config, resume your checkpoint if needed."
      ],
      "metadata": {
        "id": "ESY5DdyGSNOE"
      }
    },
    {
      "cell_type": "code",
      "source": [
        "# Number of training epochs\n",
        "num_epochs = 50\n",
        "\n",
        "# Save every N epochs or best model only\n",
        "save_every = 10\n",
        "\n",
        "# Initialize model and optimizer as usual\n",
        "device = 'cuda' if torch.cuda.is_available() # Use GPU if you have\n",
        "model = ViT(\n",
        "    image_size=32,\n",
        "    patch_size=4,\n",
        "    num_classes=10,\n",
        "    dim=512,\n",
        "    depth=6,\n",
        "    heads=8,\n",
        "    mlp_dim=512,\n",
        "    dropout=0.1,\n",
        "    emb_dropout=0.1\n",
        ").to('cuda' if torch.cuda.is_available() else 'cpu')\n",
        "criterion = ...\n",
        "optimizer = ...\n",
        "\n",
        "# Track training\n",
        "train_loss_history, val_loss_history = [], []\n",
        "train_acc_history, val_acc_history = []\n",
        "\n",
        "# Restore checkpoint if needed\n",
        "resume = True\n",
        "start_epoch = 0\n",
        "\n",
        "if resume:\n",
        "    model, optimizer, start_epoch, train_loss_history, val_loss_history, train_acc_history, val_acc_history = \\\n",
        "        load_checkpoint(model, optimizer, path=os.path.join(path_prefix,\"checkpoint.pth\"), device=device)"
      ],
      "metadata": {
        "id": "_AJ4Fhi-RxAz"
      },
      "execution_count": null,
      "outputs": []
    },
    {
      "cell_type": "markdown",
      "source": [
        "Start training"
      ],
      "metadata": {
        "id": "YNLVfMTtSVge"
      }
    },
    {
      "cell_type": "code",
      "source": [
        "for epoch in range(start_epoch, num_epochs):\n",
        "    print(f\"\\nEpoch {epoch+1}/{num_epochs}\")\n",
        "\n",
        "    train_loss, train_acc = train_one_epoch(model, train_loader, optimizer, criterion, device)\n",
        "    val_loss, val_acc = evaluate(model, test_loader, criterion, device)\n",
        "\n",
        "    train_loss_history.append(train_loss)\n",
        "    val_loss_history.append(val_loss)\n",
        "    train_acc_history.append(train_acc)\n",
        "    val_acc_history.append(val_acc)\n",
        "\n",
        "    # Save checkpoint\n",
        "    if (epoch + 1) % save_every == 0:\n",
        "        save_checkpoint(model, optimizer, epoch + 1,\n",
        "                        train_loss_history, val_loss_history,\n",
        "                        train_acc_history, val_acc_history, path=os.path.join(path_prefix,\"checkpoint.pth\"))"
      ],
      "metadata": {
        "id": "05hKNqKtRrwK"
      },
      "execution_count": null,
      "outputs": []
    },
    {
      "cell_type": "markdown",
      "source": [
        "7. Plot Results"
      ],
      "metadata": {
        "id": "CKLmyLdL9bNS"
      }
    },
    {
      "cell_type": "code",
      "source": [
        "plt.figure(figsize=(12, 5))\n",
        "\n",
        "# Loss curve\n",
        "plt.subplot(1, 2, 1)\n",
        "plt.plot(train_loss_history, label='Train Loss')\n",
        "plt.plot(val_loss_history, label='Val Loss')\n",
        "plt.title('Loss Curve')\n",
        "plt.xlabel('Epoch')\n",
        "plt.ylabel('Loss')\n",
        "plt.legend()\n",
        "\n",
        "# Accuracy curve\n",
        "plt.subplot(1, 2, 2)\n",
        "plt.plot(train_acc_history, label='Train Acc')\n",
        "plt.plot(val_acc_history, label='Val Acc')\n",
        "plt.title('Accuracy Curve')\n",
        "plt.xlabel('Epoch')\n",
        "plt.ylabel('Accuracy')\n",
        "plt.legend()\n",
        "\n",
        "plt.show()"
      ],
      "metadata": {
        "colab": {
          "base_uri": "https://localhost:8080/",
          "height": 468
        },
        "id": "J-Fr905w9XSI",
        "outputId": "02af7043-00fc-4661-ff09-588829c86e19"
      },
      "execution_count": null,
      "outputs": [
        {
          "output_type": "display_data",
          "data": {
            "text/plain": [
              "<Figure size 1200x500 with 2 Axes>"
            ],
            "image/png": "[encoded data removed]"
          },
          "metadata": {}
        }
      ]
    },
    {
      "cell_type": "markdown",
      "source": [
        "Final Accuracy on Test Set"
      ],
      "metadata": {
        "id": "If0TAREs9dPV"
      }
    },
    {
      "cell_type": "code",
      "source": [
        "final_test_loss, final_test_acc = evaluate(model, test_loader)\n",
        "print(f\"Final Test Accuracy: {final_test_acc * 100:.2f}%\")"
      ],
      "metadata": {
        "colab": {
          "base_uri": "https://localhost:8080/"
        },
        "id": "p45rTr809fPR",
        "outputId": "4dc981db-15ca-4435-b793-d2bba269ffac"
      },
      "execution_count": null,
      "outputs": [
        {
          "output_type": "stream",
          "name": "stdout",
          "text": [
            "Final Test Accuracy: 79.10%\n"
          ]
        }
      ]
    },
    {
      "cell_type": "markdown",
      "source": [
        "# Task 3.2: Ablation Studies"
      ],
      "metadata": {
        "id": "nfIyJESS9k8B"
      }
    },
    {
      "cell_type": "markdown",
      "source": [
        "We will now define a function to automate experiments with different configurations."
      ],
      "metadata": {
        "id": "spvLs3m59o87"
      }
    },
    {
      "cell_type": "code",
      "source": [
        "def run_ablation(patch_size=4, dim=256, depth=6, heads=8):\n",
        "    print(f\"Running with patch={patch_size}, dim={dim}, depth={depth}, heads={heads}\")\n",
        "    model = ViT(\n",
        "        image_size=32,\n",
        "        patch_size=patch_size,\n",
        "        num_classes=10,\n",
        "        dim=dim,\n",
        "        depth=depth,\n",
        "        heads=heads,\n",
        "        mlp_dim=dim * 2,\n",
        "        dropout=0.1,\n",
        "        emb_dropout=0.1\n",
        "    ).to(device)\n",
        "\n",
        "    optimizer = ...\n",
        "    criterion = ...\n",
        "    device = ...\n",
        "    best_val_acc = 0\n",
        "\n",
        "    for epoch in range(10):  # Short training for ablation\n",
        "        train_one_epoch(model, train_loader, optimizer, criterion, device)\n",
        "\n",
        "        _, val_acc = evaluate(model, test_loader)\n",
        "        best_val_acc = max(best_val_acc, val_acc)\n",
        "\n",
        "    print(f\"Best Val Accuracy: {best_val_acc*100:.2f}%\\n\")\n",
        "    return best_val_acc"
      ],
      "metadata": {
        "id": "M9uupYWS9lxn"
      },
      "execution_count": null,
      "outputs": []
    },
    {
      "cell_type": "markdown",
      "source": [
        "Run Ablations"
      ],
      "metadata": {
        "id": "rw0ec-CH9vCS"
      }
    },
    {
      "cell_type": "code",
      "source": [
        "# Patch Size Ablation\n",
        "for patch in [2, 4, 8]:\n",
        "    run_ablation(patch_size=patch)\n",
        "\n",
        "# Embedding Dimension Ablation\n",
        "for dim in [96, 192, 256]:\n",
        "    run_ablation(dim=dim)\n",
        "\n",
        "# Number of Layers\n",
        "for depth in [4, 6, 12]:\n",
        "    run_ablation(depth=depth)\n",
        "\n",
        "# Attention Heads\n",
        "for heads in [1, 3, 8]:\n",
        "    run_ablation(heads=heads)"
      ],
      "metadata": {
        "colab": {
          "base_uri": "https://localhost:8080/"
        },
        "id": "0Xm2k8pc9v1R",
        "outputId": "7555f041-269b-4c10-a557-f215dee4a6b6"
      },
      "execution_count": null,
      "outputs": [
        {
          "output_type": "stream",
          "name": "stdout",
          "text": [
            "Running with patch=2, dim=256, depth=6, heads=8\n"
          ]
        }
      ]
    }
  ]
}